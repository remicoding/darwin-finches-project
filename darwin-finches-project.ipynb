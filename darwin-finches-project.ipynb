{
 "cells": [
  {
   "cell_type": "markdown",
   "id": "fff154ae-a971-4164-9f1a-cadcb187d3d4",
   "metadata": {},
   "source": [
    "# Darwin's Finches: Statistical Inference"
   ]
  },
  {
   "cell_type": "markdown",
   "id": "3e16c64d-3658-40bf-b21c-65232f3849db",
   "metadata": {},
   "source": [
    "## 1. Introduction\n",
    "\n",
    "![Two finches on a tree branch](./img/finches.jpg \"Two finches on a tree branch\")\n",
    "\n",
    "__Project Goal__  \n",
    "The goal of this project is to analyze 40 years of data collected by Peter and Rosemary Grant on the Galapagos island of Daphne Major published in their book [40 Years of Evolution: Darwin's Finches on Daphne Major Island](https://press.princeton.edu/books/hardcover/9780691160467/40-years-of-evolution). The data is about Darwin's finches specifically the _Geospiza Fortis_ (fortis) and the _Geospiza Scandens_ (scandens) species. The project uses beak length and depth measurement to highlight evolutionary traits.\n",
    "\n",
    "__Analytical Goal__  \n",
    "The analysis will mainly focus on using __statistical inference__ methods.\n",
    "- Exploratory Data Analysis\n",
    "- Bootstrapping\n",
    "- Parameter estimatation\n",
    "- Hypothesis testing"
   ]
  },
  {
   "cell_type": "markdown",
   "id": "199a4522-b55a-4e8b-9b69-25d191a7dfb0",
   "metadata": {},
   "source": [
    "## 2. Data Loading"
   ]
  },
  {
   "cell_type": "code",
   "execution_count": 1,
   "id": "e0c69fc8-cad3-46d6-93be-2593a29044af",
   "metadata": {},
   "outputs": [],
   "source": [
    "# import modules\n",
    "import matplotlib.pyplot as plt\n",
    "import numpy as np\n",
    "import pandas as pd\n",
    "import seaborn as sns\n",
    "\n",
    "%matplotlib inline\n",
    "sns.set()"
   ]
  },
  {
   "cell_type": "code",
   "execution_count": 2,
   "id": "355ba902-1922-4411-9e4e-169c3bfcebee",
   "metadata": {},
   "outputs": [],
   "source": [
    "# load 1975 data\n",
    "df_1975 = pd.read_csv(\"data/finch_beaks_1975.csv\")"
   ]
  },
  {
   "cell_type": "code",
   "execution_count": 3,
   "id": "68e47db9-0a8c-4511-a5a7-af6d3cf972d8",
   "metadata": {},
   "outputs": [
    {
     "data": {
      "text/html": [
       "<div>\n",
       "<style scoped>\n",
       "    .dataframe tbody tr th:only-of-type {\n",
       "        vertical-align: middle;\n",
       "    }\n",
       "\n",
       "    .dataframe tbody tr th {\n",
       "        vertical-align: top;\n",
       "    }\n",
       "\n",
       "    .dataframe thead th {\n",
       "        text-align: right;\n",
       "    }\n",
       "</style>\n",
       "<table border=\"1\" class=\"dataframe\">\n",
       "  <thead>\n",
       "    <tr style=\"text-align: right;\">\n",
       "      <th></th>\n",
       "      <th>band</th>\n",
       "      <th>species</th>\n",
       "      <th>Beak length, mm</th>\n",
       "      <th>Beak depth, mm</th>\n",
       "    </tr>\n",
       "  </thead>\n",
       "  <tbody>\n",
       "    <tr>\n",
       "      <th>0</th>\n",
       "      <td>2</td>\n",
       "      <td>fortis</td>\n",
       "      <td>9.4</td>\n",
       "      <td>8.0</td>\n",
       "    </tr>\n",
       "    <tr>\n",
       "      <th>1</th>\n",
       "      <td>9</td>\n",
       "      <td>fortis</td>\n",
       "      <td>9.2</td>\n",
       "      <td>8.3</td>\n",
       "    </tr>\n",
       "    <tr>\n",
       "      <th>2</th>\n",
       "      <td>12</td>\n",
       "      <td>fortis</td>\n",
       "      <td>9.5</td>\n",
       "      <td>7.5</td>\n",
       "    </tr>\n",
       "    <tr>\n",
       "      <th>3</th>\n",
       "      <td>15</td>\n",
       "      <td>fortis</td>\n",
       "      <td>9.5</td>\n",
       "      <td>8.0</td>\n",
       "    </tr>\n",
       "    <tr>\n",
       "      <th>4</th>\n",
       "      <td>305</td>\n",
       "      <td>fortis</td>\n",
       "      <td>11.5</td>\n",
       "      <td>9.9</td>\n",
       "    </tr>\n",
       "  </tbody>\n",
       "</table>\n",
       "</div>"
      ],
      "text/plain": [
       "   band species  Beak length, mm  Beak depth, mm\n",
       "0     2  fortis              9.4             8.0\n",
       "1     9  fortis              9.2             8.3\n",
       "2    12  fortis              9.5             7.5\n",
       "3    15  fortis              9.5             8.0\n",
       "4   305  fortis             11.5             9.9"
      ]
     },
     "execution_count": 3,
     "metadata": {},
     "output_type": "execute_result"
    }
   ],
   "source": [
    "# print first few rows of the 1975 DataFrame\n",
    "df_1975.head()"
   ]
  },
  {
   "cell_type": "code",
   "execution_count": 4,
   "id": "05bf3bd7-3c18-4575-b844-2625e5973390",
   "metadata": {},
   "outputs": [],
   "source": [
    "# load the 2012 data\n",
    "df_2012 = pd.read_csv(\"data/finch_beaks_2012.csv\")"
   ]
  },
  {
   "cell_type": "code",
   "execution_count": 5,
   "id": "96f453fc-0704-4b3b-ad1d-30f82edd05f6",
   "metadata": {},
   "outputs": [
    {
     "data": {
      "text/html": [
       "<div>\n",
       "<style scoped>\n",
       "    .dataframe tbody tr th:only-of-type {\n",
       "        vertical-align: middle;\n",
       "    }\n",
       "\n",
       "    .dataframe tbody tr th {\n",
       "        vertical-align: top;\n",
       "    }\n",
       "\n",
       "    .dataframe thead th {\n",
       "        text-align: right;\n",
       "    }\n",
       "</style>\n",
       "<table border=\"1\" class=\"dataframe\">\n",
       "  <thead>\n",
       "    <tr style=\"text-align: right;\">\n",
       "      <th></th>\n",
       "      <th>band</th>\n",
       "      <th>species</th>\n",
       "      <th>blength</th>\n",
       "      <th>bdepth</th>\n",
       "    </tr>\n",
       "  </thead>\n",
       "  <tbody>\n",
       "    <tr>\n",
       "      <th>0</th>\n",
       "      <td>19022</td>\n",
       "      <td>fortis</td>\n",
       "      <td>10.0</td>\n",
       "      <td>8.5</td>\n",
       "    </tr>\n",
       "    <tr>\n",
       "      <th>1</th>\n",
       "      <td>19028</td>\n",
       "      <td>fortis</td>\n",
       "      <td>12.5</td>\n",
       "      <td>8.9</td>\n",
       "    </tr>\n",
       "    <tr>\n",
       "      <th>2</th>\n",
       "      <td>19032</td>\n",
       "      <td>fortis</td>\n",
       "      <td>9.3</td>\n",
       "      <td>7.5</td>\n",
       "    </tr>\n",
       "    <tr>\n",
       "      <th>3</th>\n",
       "      <td>19041</td>\n",
       "      <td>fortis</td>\n",
       "      <td>10.3</td>\n",
       "      <td>9.6</td>\n",
       "    </tr>\n",
       "    <tr>\n",
       "      <th>4</th>\n",
       "      <td>19044</td>\n",
       "      <td>fortis</td>\n",
       "      <td>11.0</td>\n",
       "      <td>9.2</td>\n",
       "    </tr>\n",
       "  </tbody>\n",
       "</table>\n",
       "</div>"
      ],
      "text/plain": [
       "    band species  blength  bdepth\n",
       "0  19022  fortis     10.0     8.5\n",
       "1  19028  fortis     12.5     8.9\n",
       "2  19032  fortis      9.3     7.5\n",
       "3  19041  fortis     10.3     9.6\n",
       "4  19044  fortis     11.0     9.2"
      ]
     },
     "execution_count": 5,
     "metadata": {},
     "output_type": "execute_result"
    }
   ],
   "source": [
    "# print first few rows of the 2012 DataFrame\n",
    "df_2012.head()"
   ]
  },
  {
   "cell_type": "code",
   "execution_count": 6,
   "id": "e66d02a3-e728-49e3-bd05-a0d37fdcaf2c",
   "metadata": {},
   "outputs": [],
   "source": [
    "# load the fortis heredity data\n",
    "df_fortis_heredity = pd.read_csv(\"data/fortis_beak_depth_heredity.csv\")"
   ]
  },
  {
   "cell_type": "code",
   "execution_count": 7,
   "id": "cf606e77-ef70-45e6-b86d-2c0af5c89334",
   "metadata": {},
   "outputs": [
    {
     "data": {
      "text/html": [
       "<div>\n",
       "<style scoped>\n",
       "    .dataframe tbody tr th:only-of-type {\n",
       "        vertical-align: middle;\n",
       "    }\n",
       "\n",
       "    .dataframe tbody tr th {\n",
       "        vertical-align: top;\n",
       "    }\n",
       "\n",
       "    .dataframe thead th {\n",
       "        text-align: right;\n",
       "    }\n",
       "</style>\n",
       "<table border=\"1\" class=\"dataframe\">\n",
       "  <thead>\n",
       "    <tr style=\"text-align: right;\">\n",
       "      <th></th>\n",
       "      <th>Mid-offspr</th>\n",
       "      <th>Male BD</th>\n",
       "      <th>Female BD</th>\n",
       "    </tr>\n",
       "  </thead>\n",
       "  <tbody>\n",
       "    <tr>\n",
       "      <th>0</th>\n",
       "      <td>10.70</td>\n",
       "      <td>10.90</td>\n",
       "      <td>9.3</td>\n",
       "    </tr>\n",
       "    <tr>\n",
       "      <th>1</th>\n",
       "      <td>9.78</td>\n",
       "      <td>10.70</td>\n",
       "      <td>8.4</td>\n",
       "    </tr>\n",
       "    <tr>\n",
       "      <th>2</th>\n",
       "      <td>9.48</td>\n",
       "      <td>10.70</td>\n",
       "      <td>8.1</td>\n",
       "    </tr>\n",
       "    <tr>\n",
       "      <th>3</th>\n",
       "      <td>9.60</td>\n",
       "      <td>10.70</td>\n",
       "      <td>9.8</td>\n",
       "    </tr>\n",
       "    <tr>\n",
       "      <th>4</th>\n",
       "      <td>10.27</td>\n",
       "      <td>9.85</td>\n",
       "      <td>10.4</td>\n",
       "    </tr>\n",
       "  </tbody>\n",
       "</table>\n",
       "</div>"
      ],
      "text/plain": [
       "   Mid-offspr  Male BD  Female BD\n",
       "0       10.70    10.90        9.3\n",
       "1        9.78    10.70        8.4\n",
       "2        9.48    10.70        8.1\n",
       "3        9.60    10.70        9.8\n",
       "4       10.27     9.85       10.4"
      ]
     },
     "execution_count": 7,
     "metadata": {},
     "output_type": "execute_result"
    }
   ],
   "source": [
    "# print first few rows of the fortis heredity DataFrame\n",
    "df_fortis_heredity.head()"
   ]
  },
  {
   "cell_type": "code",
   "execution_count": 8,
   "id": "8e447d1a-2254-437b-9e15-71938efb09bb",
   "metadata": {},
   "outputs": [],
   "source": [
    "# load the scandens heredity data\n",
    "df_scandens_heredity = pd.read_csv(\"data/scandens_beak_depth_heredity.csv\")"
   ]
  },
  {
   "cell_type": "code",
   "execution_count": 9,
   "id": "bb73a73d-f000-4d30-adc5-2c69a4b0832b",
   "metadata": {},
   "outputs": [
    {
     "data": {
      "text/html": [
       "<div>\n",
       "<style scoped>\n",
       "    .dataframe tbody tr th:only-of-type {\n",
       "        vertical-align: middle;\n",
       "    }\n",
       "\n",
       "    .dataframe tbody tr th {\n",
       "        vertical-align: top;\n",
       "    }\n",
       "\n",
       "    .dataframe thead th {\n",
       "        text-align: right;\n",
       "    }\n",
       "</style>\n",
       "<table border=\"1\" class=\"dataframe\">\n",
       "  <thead>\n",
       "    <tr style=\"text-align: right;\">\n",
       "      <th></th>\n",
       "      <th>mid_parent</th>\n",
       "      <th>mid_offspring</th>\n",
       "    </tr>\n",
       "  </thead>\n",
       "  <tbody>\n",
       "    <tr>\n",
       "      <th>0</th>\n",
       "      <td>8.3318</td>\n",
       "      <td>8.4190</td>\n",
       "    </tr>\n",
       "    <tr>\n",
       "      <th>1</th>\n",
       "      <td>8.4035</td>\n",
       "      <td>9.2468</td>\n",
       "    </tr>\n",
       "    <tr>\n",
       "      <th>2</th>\n",
       "      <td>8.5317</td>\n",
       "      <td>8.1532</td>\n",
       "    </tr>\n",
       "    <tr>\n",
       "      <th>3</th>\n",
       "      <td>8.7202</td>\n",
       "      <td>8.0089</td>\n",
       "    </tr>\n",
       "    <tr>\n",
       "      <th>4</th>\n",
       "      <td>8.7089</td>\n",
       "      <td>8.2215</td>\n",
       "    </tr>\n",
       "  </tbody>\n",
       "</table>\n",
       "</div>"
      ],
      "text/plain": [
       "   mid_parent  mid_offspring\n",
       "0      8.3318         8.4190\n",
       "1      8.4035         9.2468\n",
       "2      8.5317         8.1532\n",
       "3      8.7202         8.0089\n",
       "4      8.7089         8.2215"
      ]
     },
     "execution_count": 9,
     "metadata": {},
     "output_type": "execute_result"
    }
   ],
   "source": [
    "# print first few rows of the scandens heredity DataFrame\n",
    "df_scandens_heredity.head()"
   ]
  },
  {
   "cell_type": "markdown",
   "id": "7dafd820-3940-4bac-9089-0eddb30c9d35",
   "metadata": {},
   "source": [
    "## 3. Data Cleaning"
   ]
  },
  {
   "cell_type": "code",
   "execution_count": 10,
   "id": "591231d4-9325-4e86-9bfa-ca1ac138e1d7",
   "metadata": {},
   "outputs": [],
   "source": [
    "# rename columns in the 1975 and 2012 DataFrames\n",
    "column_name_lst = [\"band\", \"species\", \"beak_length\", \"beak_depth\"]\n",
    "df_1975.columns = column_name_lst\n",
    "df_2012.columns = column_name_lst\n",
    "\n",
    "# verify that the column names have changed\n",
    "assert df_1975.columns[2] == column_name_lst[2]"
   ]
  },
  {
   "cell_type": "code",
   "execution_count": 11,
   "id": "636759fa-edb7-4d4c-83fd-47a6a06add3a",
   "metadata": {},
   "outputs": [],
   "source": [
    "# rename columns in fortis heredity DataFrame\n",
    "column_name_lst = [\"mid_offspring_beak_depth\", \"male_beak_depth\", \"female_beak_depth\"]\n",
    "df_fortis_heredity.columns = column_name_lst\n",
    "\n",
    "# verify that the column names have changed\n",
    "assert df_fortis_heredity.columns[1] == column_name_lst[1]"
   ]
  },
  {
   "cell_type": "code",
   "execution_count": 12,
   "id": "9c995096-5b47-4d67-a505-a497098231ad",
   "metadata": {},
   "outputs": [],
   "source": [
    "# rename columns in scandens heredity DataFrame\n",
    "column_name_lst = [\"mid_parent_beak_depth\", \"mid_offspring_beak_depth\"]\n",
    "df_scandens_heredity.columns = column_name_lst\n",
    "\n",
    "# verify that the column names have changed\n",
    "assert df_scandens_heredity.columns[1] == column_name_lst[1]"
   ]
  },
  {
   "cell_type": "code",
   "execution_count": 13,
   "id": "cec41e5e-8d2e-480d-b132-a46e22195a34",
   "metadata": {},
   "outputs": [],
   "source": [
    "# Add year column to the 1975 and 2012 Dataframes\n",
    "df_1975[\"year\"] = 1975\n",
    "df_2012[\"year\"] = 2012\n",
    "\n",
    "# verify that the column has been added with the value\n",
    "assert df_1975.columns[-1] == \"year\"\n",
    "assert df_2012.iloc[0, -1] == 2012"
   ]
  },
  {
   "cell_type": "code",
   "execution_count": 14,
   "id": "1d8a2930-b697-47de-ab45-d82acde6d16e",
   "metadata": {},
   "outputs": [
    {
     "data": {
      "text/html": [
       "<div>\n",
       "<style scoped>\n",
       "    .dataframe tbody tr th:only-of-type {\n",
       "        vertical-align: middle;\n",
       "    }\n",
       "\n",
       "    .dataframe tbody tr th {\n",
       "        vertical-align: top;\n",
       "    }\n",
       "\n",
       "    .dataframe thead th {\n",
       "        text-align: right;\n",
       "    }\n",
       "</style>\n",
       "<table border=\"1\" class=\"dataframe\">\n",
       "  <thead>\n",
       "    <tr style=\"text-align: right;\">\n",
       "      <th></th>\n",
       "      <th>band</th>\n",
       "      <th>species</th>\n",
       "      <th>beak_length</th>\n",
       "      <th>beak_depth</th>\n",
       "      <th>year</th>\n",
       "    </tr>\n",
       "  </thead>\n",
       "  <tbody>\n",
       "    <tr>\n",
       "      <th>646</th>\n",
       "      <td>21295</td>\n",
       "      <td>scandens</td>\n",
       "      <td>14.2</td>\n",
       "      <td>9.3</td>\n",
       "      <td>2012</td>\n",
       "    </tr>\n",
       "    <tr>\n",
       "      <th>647</th>\n",
       "      <td>21297</td>\n",
       "      <td>scandens</td>\n",
       "      <td>13.0</td>\n",
       "      <td>9.8</td>\n",
       "      <td>2012</td>\n",
       "    </tr>\n",
       "    <tr>\n",
       "      <th>648</th>\n",
       "      <td>21340</td>\n",
       "      <td>scandens</td>\n",
       "      <td>14.6</td>\n",
       "      <td>8.9</td>\n",
       "      <td>2012</td>\n",
       "    </tr>\n",
       "    <tr>\n",
       "      <th>649</th>\n",
       "      <td>21342</td>\n",
       "      <td>scandens</td>\n",
       "      <td>13.1</td>\n",
       "      <td>9.8</td>\n",
       "      <td>2012</td>\n",
       "    </tr>\n",
       "    <tr>\n",
       "      <th>650</th>\n",
       "      <td>21347</td>\n",
       "      <td>scandens</td>\n",
       "      <td>15.2</td>\n",
       "      <td>9.1</td>\n",
       "      <td>2012</td>\n",
       "    </tr>\n",
       "  </tbody>\n",
       "</table>\n",
       "</div>"
      ],
      "text/plain": [
       "      band   species  beak_length  beak_depth  year\n",
       "646  21295  scandens         14.2         9.3  2012\n",
       "647  21297  scandens         13.0         9.8  2012\n",
       "648  21340  scandens         14.6         8.9  2012\n",
       "649  21342  scandens         13.1         9.8  2012\n",
       "650  21347  scandens         15.2         9.1  2012"
      ]
     },
     "execution_count": 14,
     "metadata": {},
     "output_type": "execute_result"
    }
   ],
   "source": [
    "# combine the 1975 and 2012 DataFrames into one DataFrame\n",
    "df_finch = pd.concat([df_1975, df_2012], ignore_index=True)\n",
    "\n",
    "# check first few rows of DataFrame\n",
    "df_finch.tail()"
   ]
  },
  {
   "cell_type": "code",
   "execution_count": 15,
   "id": "6714177a-ceba-49cd-ac46-d3d58e8018ee",
   "metadata": {},
   "outputs": [
    {
     "data": {
      "text/html": [
       "<div>\n",
       "<style scoped>\n",
       "    .dataframe tbody tr th:only-of-type {\n",
       "        vertical-align: middle;\n",
       "    }\n",
       "\n",
       "    .dataframe tbody tr th {\n",
       "        vertical-align: top;\n",
       "    }\n",
       "\n",
       "    .dataframe thead th {\n",
       "        text-align: right;\n",
       "    }\n",
       "</style>\n",
       "<table border=\"1\" class=\"dataframe\">\n",
       "  <thead>\n",
       "    <tr style=\"text-align: right;\">\n",
       "      <th></th>\n",
       "      <th>mid_offspring_beak_depth</th>\n",
       "      <th>male_beak_depth</th>\n",
       "      <th>female_beak_depth</th>\n",
       "      <th>mid_parent_beak_depth</th>\n",
       "    </tr>\n",
       "  </thead>\n",
       "  <tbody>\n",
       "    <tr>\n",
       "      <th>0</th>\n",
       "      <td>10.70</td>\n",
       "      <td>10.90</td>\n",
       "      <td>9.3</td>\n",
       "      <td>10.100</td>\n",
       "    </tr>\n",
       "    <tr>\n",
       "      <th>1</th>\n",
       "      <td>9.78</td>\n",
       "      <td>10.70</td>\n",
       "      <td>8.4</td>\n",
       "      <td>9.550</td>\n",
       "    </tr>\n",
       "    <tr>\n",
       "      <th>2</th>\n",
       "      <td>9.48</td>\n",
       "      <td>10.70</td>\n",
       "      <td>8.1</td>\n",
       "      <td>9.400</td>\n",
       "    </tr>\n",
       "    <tr>\n",
       "      <th>3</th>\n",
       "      <td>9.60</td>\n",
       "      <td>10.70</td>\n",
       "      <td>9.8</td>\n",
       "      <td>10.250</td>\n",
       "    </tr>\n",
       "    <tr>\n",
       "      <th>4</th>\n",
       "      <td>10.27</td>\n",
       "      <td>9.85</td>\n",
       "      <td>10.4</td>\n",
       "      <td>10.125</td>\n",
       "    </tr>\n",
       "  </tbody>\n",
       "</table>\n",
       "</div>"
      ],
      "text/plain": [
       "   mid_offspring_beak_depth  male_beak_depth  female_beak_depth  \\\n",
       "0                     10.70            10.90                9.3   \n",
       "1                      9.78            10.70                8.4   \n",
       "2                      9.48            10.70                8.1   \n",
       "3                      9.60            10.70                9.8   \n",
       "4                     10.27             9.85               10.4   \n",
       "\n",
       "   mid_parent_beak_depth  \n",
       "0                 10.100  \n",
       "1                  9.550  \n",
       "2                  9.400  \n",
       "3                 10.250  \n",
       "4                 10.125  "
      ]
     },
     "execution_count": 15,
     "metadata": {},
     "output_type": "execute_result"
    }
   ],
   "source": [
    "# Add mid parent fortis beak depth column to the fortis heredity DataFrame\n",
    "df_fortis_heredity[\"mid_parent_beak_depth\"] = df_fortis_heredity[[\"male_beak_depth\", \"female_beak_depth\"]].mean(axis=1)\n",
    "\n",
    "# check first few rows of the DataFrame\n",
    "df_fortis_heredity.head()"
   ]
  },
  {
   "cell_type": "markdown",
   "id": "e01d3bce-f570-4267-acee-dc260ac222d3",
   "metadata": {},
   "source": [
    "## 4. Data Analysis of Beak Measurements"
   ]
  },
  {
   "cell_type": "markdown",
   "id": "65b8991c-f910-46a1-ba78-85839e55ec45",
   "metadata": {},
   "source": [
    "### 4.1 Basic Info and Descriptive Statistics"
   ]
  },
  {
   "cell_type": "code",
   "execution_count": 16,
   "id": "934586a1-233d-4fc8-8c8b-a60e72735404",
   "metadata": {},
   "outputs": [
    {
     "name": "stdout",
     "output_type": "stream",
     "text": [
      "<class 'pandas.core.frame.DataFrame'>\n",
      "RangeIndex: 651 entries, 0 to 650\n",
      "Data columns (total 5 columns):\n",
      " #   Column       Non-Null Count  Dtype  \n",
      "---  ------       --------------  -----  \n",
      " 0   band         651 non-null    int64  \n",
      " 1   species      651 non-null    object \n",
      " 2   beak_length  651 non-null    float64\n",
      " 3   beak_depth   651 non-null    float64\n",
      " 4   year         651 non-null    int64  \n",
      "dtypes: float64(2), int64(2), object(1)\n",
      "memory usage: 25.6+ KB\n"
     ]
    }
   ],
   "source": [
    "# check basic info on finch DataFrame\n",
    "df_finch.info()"
   ]
  },
  {
   "cell_type": "code",
   "execution_count": 17,
   "id": "ce304e0f-b1b9-4230-ba30-c1a653b44bb0",
   "metadata": {},
   "outputs": [
    {
     "name": "stdout",
     "output_type": "stream",
     "text": [
      "<class 'pandas.core.frame.DataFrame'>\n",
      "RangeIndex: 413 entries, 0 to 412\n",
      "Data columns (total 4 columns):\n",
      " #   Column                    Non-Null Count  Dtype  \n",
      "---  ------                    --------------  -----  \n",
      " 0   mid_offspring_beak_depth  413 non-null    float64\n",
      " 1   male_beak_depth           413 non-null    float64\n",
      " 2   female_beak_depth         413 non-null    float64\n",
      " 3   mid_parent_beak_depth     413 non-null    float64\n",
      "dtypes: float64(4)\n",
      "memory usage: 13.0 KB\n"
     ]
    }
   ],
   "source": [
    "# check basic info on fortis heredity DataFrame\n",
    "df_fortis_heredity.info()"
   ]
  },
  {
   "cell_type": "code",
   "execution_count": 18,
   "id": "71e890a5-5eb5-422c-b91d-269d0ea38fee",
   "metadata": {},
   "outputs": [
    {
     "name": "stdout",
     "output_type": "stream",
     "text": [
      "<class 'pandas.core.frame.DataFrame'>\n",
      "RangeIndex: 130 entries, 0 to 129\n",
      "Data columns (total 2 columns):\n",
      " #   Column                    Non-Null Count  Dtype  \n",
      "---  ------                    --------------  -----  \n",
      " 0   mid_parent_beak_depth     130 non-null    float64\n",
      " 1   mid_offspring_beak_depth  130 non-null    float64\n",
      "dtypes: float64(2)\n",
      "memory usage: 2.2 KB\n"
     ]
    }
   ],
   "source": [
    "# check basic info on scandens heredity DataFrame\n",
    "df_scandens_heredity.info()"
   ]
  },
  {
   "cell_type": "code",
   "execution_count": 19,
   "id": "405993fc-25fc-49a1-941e-21d94bb7352c",
   "metadata": {},
   "outputs": [
    {
     "data": {
      "text/html": [
       "<div>\n",
       "<style scoped>\n",
       "    .dataframe tbody tr th:only-of-type {\n",
       "        vertical-align: middle;\n",
       "    }\n",
       "\n",
       "    .dataframe tbody tr th {\n",
       "        vertical-align: top;\n",
       "    }\n",
       "\n",
       "    .dataframe thead th {\n",
       "        text-align: right;\n",
       "    }\n",
       "</style>\n",
       "<table border=\"1\" class=\"dataframe\">\n",
       "  <thead>\n",
       "    <tr style=\"text-align: right;\">\n",
       "      <th></th>\n",
       "      <th>count</th>\n",
       "      <th>mean</th>\n",
       "      <th>std</th>\n",
       "      <th>min</th>\n",
       "      <th>25%</th>\n",
       "      <th>50%</th>\n",
       "      <th>75%</th>\n",
       "      <th>max</th>\n",
       "    </tr>\n",
       "  </thead>\n",
       "  <tbody>\n",
       "    <tr>\n",
       "      <th>band</th>\n",
       "      <td>651.0</td>\n",
       "      <td>8824.215054</td>\n",
       "      <td>9586.864492</td>\n",
       "      <td>2.0</td>\n",
       "      <td>571.5</td>\n",
       "      <td>923.0</td>\n",
       "      <td>19659.0</td>\n",
       "      <td>22000.00</td>\n",
       "    </tr>\n",
       "    <tr>\n",
       "      <th>beak_length</th>\n",
       "      <td>651.0</td>\n",
       "      <td>11.588618</td>\n",
       "      <td>1.659108</td>\n",
       "      <td>8.7</td>\n",
       "      <td>10.3</td>\n",
       "      <td>11.0</td>\n",
       "      <td>13.1</td>\n",
       "      <td>15.94</td>\n",
       "    </tr>\n",
       "    <tr>\n",
       "      <th>beak_depth</th>\n",
       "      <td>651.0</td>\n",
       "      <td>9.040952</td>\n",
       "      <td>0.735171</td>\n",
       "      <td>7.2</td>\n",
       "      <td>8.5</td>\n",
       "      <td>9.0</td>\n",
       "      <td>9.6</td>\n",
       "      <td>11.10</td>\n",
       "    </tr>\n",
       "    <tr>\n",
       "      <th>year</th>\n",
       "      <td>651.0</td>\n",
       "      <td>1989.095238</td>\n",
       "      <td>17.981790</td>\n",
       "      <td>1975.0</td>\n",
       "      <td>1975.0</td>\n",
       "      <td>1975.0</td>\n",
       "      <td>2012.0</td>\n",
       "      <td>2012.00</td>\n",
       "    </tr>\n",
       "  </tbody>\n",
       "</table>\n",
       "</div>"
      ],
      "text/plain": [
       "             count         mean          std     min     25%     50%      75%  \\\n",
       "band         651.0  8824.215054  9586.864492     2.0   571.5   923.0  19659.0   \n",
       "beak_length  651.0    11.588618     1.659108     8.7    10.3    11.0     13.1   \n",
       "beak_depth   651.0     9.040952     0.735171     7.2     8.5     9.0      9.6   \n",
       "year         651.0  1989.095238    17.981790  1975.0  1975.0  1975.0   2012.0   \n",
       "\n",
       "                  max  \n",
       "band         22000.00  \n",
       "beak_length     15.94  \n",
       "beak_depth      11.10  \n",
       "year          2012.00  "
      ]
     },
     "execution_count": 19,
     "metadata": {},
     "output_type": "execute_result"
    }
   ],
   "source": [
    "# check basic descriptive statistics on finch DataFrame\n",
    "df_finch.describe().T"
   ]
  },
  {
   "cell_type": "code",
   "execution_count": 20,
   "id": "7b26a8bc-5d1f-4648-b480-86fdc29923d3",
   "metadata": {},
   "outputs": [
    {
     "data": {
      "text/html": [
       "<div>\n",
       "<style scoped>\n",
       "    .dataframe tbody tr th:only-of-type {\n",
       "        vertical-align: middle;\n",
       "    }\n",
       "\n",
       "    .dataframe tbody tr th {\n",
       "        vertical-align: top;\n",
       "    }\n",
       "\n",
       "    .dataframe thead th {\n",
       "        text-align: right;\n",
       "    }\n",
       "</style>\n",
       "<table border=\"1\" class=\"dataframe\">\n",
       "  <thead>\n",
       "    <tr style=\"text-align: right;\">\n",
       "      <th></th>\n",
       "      <th>count</th>\n",
       "      <th>mean</th>\n",
       "      <th>std</th>\n",
       "      <th>min</th>\n",
       "      <th>25%</th>\n",
       "      <th>50%</th>\n",
       "      <th>75%</th>\n",
       "      <th>max</th>\n",
       "    </tr>\n",
       "  </thead>\n",
       "  <tbody>\n",
       "    <tr>\n",
       "      <th>mid_offspring_beak_depth</th>\n",
       "      <td>413.0</td>\n",
       "      <td>9.304649</td>\n",
       "      <td>0.685714</td>\n",
       "      <td>7.14</td>\n",
       "      <td>8.87</td>\n",
       "      <td>9.34</td>\n",
       "      <td>9.77</td>\n",
       "      <td>11.19</td>\n",
       "    </tr>\n",
       "    <tr>\n",
       "      <th>male_beak_depth</th>\n",
       "      <td>413.0</td>\n",
       "      <td>9.658862</td>\n",
       "      <td>0.990094</td>\n",
       "      <td>6.40</td>\n",
       "      <td>9.10</td>\n",
       "      <td>9.70</td>\n",
       "      <td>10.30</td>\n",
       "      <td>12.70</td>\n",
       "    </tr>\n",
       "    <tr>\n",
       "      <th>female_beak_depth</th>\n",
       "      <td>413.0</td>\n",
       "      <td>9.309685</td>\n",
       "      <td>0.833508</td>\n",
       "      <td>5.50</td>\n",
       "      <td>8.70</td>\n",
       "      <td>9.30</td>\n",
       "      <td>10.00</td>\n",
       "      <td>11.30</td>\n",
       "    </tr>\n",
       "    <tr>\n",
       "      <th>mid_parent_beak_depth</th>\n",
       "      <td>413.0</td>\n",
       "      <td>9.484274</td>\n",
       "      <td>0.690871</td>\n",
       "      <td>7.25</td>\n",
       "      <td>9.05</td>\n",
       "      <td>9.55</td>\n",
       "      <td>9.95</td>\n",
       "      <td>11.55</td>\n",
       "    </tr>\n",
       "  </tbody>\n",
       "</table>\n",
       "</div>"
      ],
      "text/plain": [
       "                          count      mean       std   min   25%   50%    75%  \\\n",
       "mid_offspring_beak_depth  413.0  9.304649  0.685714  7.14  8.87  9.34   9.77   \n",
       "male_beak_depth           413.0  9.658862  0.990094  6.40  9.10  9.70  10.30   \n",
       "female_beak_depth         413.0  9.309685  0.833508  5.50  8.70  9.30  10.00   \n",
       "mid_parent_beak_depth     413.0  9.484274  0.690871  7.25  9.05  9.55   9.95   \n",
       "\n",
       "                            max  \n",
       "mid_offspring_beak_depth  11.19  \n",
       "male_beak_depth           12.70  \n",
       "female_beak_depth         11.30  \n",
       "mid_parent_beak_depth     11.55  "
      ]
     },
     "execution_count": 20,
     "metadata": {},
     "output_type": "execute_result"
    }
   ],
   "source": [
    "# check basic descriptive statistics on fortis heredity DataFrame\n",
    "df_fortis_heredity.describe().T"
   ]
  },
  {
   "cell_type": "code",
   "execution_count": 21,
   "id": "1d640f26-a682-418c-9502-1b22684ed008",
   "metadata": {},
   "outputs": [
    {
     "data": {
      "text/html": [
       "<div>\n",
       "<style scoped>\n",
       "    .dataframe tbody tr th:only-of-type {\n",
       "        vertical-align: middle;\n",
       "    }\n",
       "\n",
       "    .dataframe tbody tr th {\n",
       "        vertical-align: top;\n",
       "    }\n",
       "\n",
       "    .dataframe thead th {\n",
       "        text-align: right;\n",
       "    }\n",
       "</style>\n",
       "<table border=\"1\" class=\"dataframe\">\n",
       "  <thead>\n",
       "    <tr style=\"text-align: right;\">\n",
       "      <th></th>\n",
       "      <th>count</th>\n",
       "      <th>mean</th>\n",
       "      <th>std</th>\n",
       "      <th>min</th>\n",
       "      <th>25%</th>\n",
       "      <th>50%</th>\n",
       "      <th>75%</th>\n",
       "      <th>max</th>\n",
       "    </tr>\n",
       "  </thead>\n",
       "  <tbody>\n",
       "    <tr>\n",
       "      <th>mid_parent_beak_depth</th>\n",
       "      <td>130.0</td>\n",
       "      <td>9.184502</td>\n",
       "      <td>0.322264</td>\n",
       "      <td>8.3318</td>\n",
       "      <td>8.94365</td>\n",
       "      <td>9.1991</td>\n",
       "      <td>9.4046</td>\n",
       "      <td>10.0023</td>\n",
       "    </tr>\n",
       "    <tr>\n",
       "      <th>mid_offspring_beak_depth</th>\n",
       "      <td>130.0</td>\n",
       "      <td>9.042415</td>\n",
       "      <td>0.429367</td>\n",
       "      <td>8.0089</td>\n",
       "      <td>8.78540</td>\n",
       "      <td>9.0342</td>\n",
       "      <td>9.2905</td>\n",
       "      <td>10.4089</td>\n",
       "    </tr>\n",
       "  </tbody>\n",
       "</table>\n",
       "</div>"
      ],
      "text/plain": [
       "                          count      mean       std     min      25%     50%  \\\n",
       "mid_parent_beak_depth     130.0  9.184502  0.322264  8.3318  8.94365  9.1991   \n",
       "mid_offspring_beak_depth  130.0  9.042415  0.429367  8.0089  8.78540  9.0342   \n",
       "\n",
       "                             75%      max  \n",
       "mid_parent_beak_depth     9.4046  10.0023  \n",
       "mid_offspring_beak_depth  9.2905  10.4089  "
      ]
     },
     "execution_count": 21,
     "metadata": {},
     "output_type": "execute_result"
    }
   ],
   "source": [
    "# check basic descriptive statistics on scandens heredity DataFrame\n",
    "df_scandens_heredity.describe().T"
   ]
  },
  {
   "cell_type": "markdown",
   "id": "4ddad354-ab66-46c9-9360-b8d4fa1f97ae",
   "metadata": {},
   "source": [
    "From these basics exploration, it can be noticed that the datasets have no missing values, and the values can validated by being in reasonable ranges."
   ]
  },
  {
   "cell_type": "markdown",
   "id": "ae75dfd1-30d7-448d-851d-aeab8efadc20",
   "metadata": {},
   "source": [
    "### 4.2 EDA of beak depths of Darwin's finches"
   ]
  },
  {
   "cell_type": "code",
   "execution_count": 22,
   "id": "e94af724-b696-4c9d-b928-1ffe356ba30a",
   "metadata": {},
   "outputs": [
    {
     "data": {
      "image/png": "[encoded data removed]",
      "text/plain": [
       "<Figure size 784.1x360 with 2 Axes>"
      ]
     },
     "metadata": {},
     "output_type": "display_data"
    }
   ],
   "source": [
    "# plot of each species in each year\n",
    "g = sns.relplot(x=\"beak_length\", y=\"beak_depth\", data=df_finch, \n",
    "                kind=\"scatter\", col=\"species\", hue=\"year\");\n",
    "g.fig.suptitle(\"Plot of Beak Depth over Length in 1975 and 2012\", y=1.05)\n",
    "g.set_titles(\"{col_name}\")\n",
    "g.set(xlabel=\"beak length (mm)\", ylabel=\"beak depth (mm)\");"
   ]
  },
  {
   "cell_type": "markdown",
   "id": "52431245-2104-492a-a03d-41d387f86c47",
   "metadata": {},
   "source": [
    "From these scatter plots, it can be notice that beak depth to length ratio has not change that much for the fortis species because there is a large overlap between the the measurements over both periods. However, for the scandens species, a striking difference in beak measurement relationship can be noticed over the two periods."
   ]
  },
  {
   "cell_type": "code",
   "execution_count": 23,
   "id": "0ac44720-436e-4f92-9c20-b3f2fdc81829",
   "metadata": {},
   "outputs": [
    {
     "data": {
      "text/html": [
       "<div>\n",
       "<style scoped>\n",
       "    .dataframe tbody tr th:only-of-type {\n",
       "        vertical-align: middle;\n",
       "    }\n",
       "\n",
       "    .dataframe tbody tr th {\n",
       "        vertical-align: top;\n",
       "    }\n",
       "\n",
       "    .dataframe thead th {\n",
       "        text-align: right;\n",
       "    }\n",
       "</style>\n",
       "<table border=\"1\" class=\"dataframe\">\n",
       "  <thead>\n",
       "    <tr style=\"text-align: right;\">\n",
       "      <th></th>\n",
       "      <th>band</th>\n",
       "      <th>species</th>\n",
       "      <th>beak_length</th>\n",
       "      <th>beak_depth</th>\n",
       "      <th>year</th>\n",
       "    </tr>\n",
       "  </thead>\n",
       "  <tbody>\n",
       "    <tr>\n",
       "      <th>0</th>\n",
       "      <td>302</td>\n",
       "      <td>scandens</td>\n",
       "      <td>13.9</td>\n",
       "      <td>8.4</td>\n",
       "      <td>1975</td>\n",
       "    </tr>\n",
       "    <tr>\n",
       "      <th>1</th>\n",
       "      <td>304</td>\n",
       "      <td>scandens</td>\n",
       "      <td>14.0</td>\n",
       "      <td>8.8</td>\n",
       "      <td>1975</td>\n",
       "    </tr>\n",
       "    <tr>\n",
       "      <th>2</th>\n",
       "      <td>306</td>\n",
       "      <td>scandens</td>\n",
       "      <td>12.9</td>\n",
       "      <td>8.4</td>\n",
       "      <td>1975</td>\n",
       "    </tr>\n",
       "    <tr>\n",
       "      <th>3</th>\n",
       "      <td>310</td>\n",
       "      <td>scandens</td>\n",
       "      <td>13.5</td>\n",
       "      <td>8.0</td>\n",
       "      <td>1975</td>\n",
       "    </tr>\n",
       "    <tr>\n",
       "      <th>4</th>\n",
       "      <td>317</td>\n",
       "      <td>scandens</td>\n",
       "      <td>12.9</td>\n",
       "      <td>7.9</td>\n",
       "      <td>1975</td>\n",
       "    </tr>\n",
       "  </tbody>\n",
       "</table>\n",
       "</div>"
      ],
      "text/plain": [
       "   band   species  beak_length  beak_depth  year\n",
       "0   302  scandens         13.9         8.4  1975\n",
       "1   304  scandens         14.0         8.8  1975\n",
       "2   306  scandens         12.9         8.4  1975\n",
       "3   310  scandens         13.5         8.0  1975\n",
       "4   317  scandens         12.9         7.9  1975"
      ]
     },
     "execution_count": 23,
     "metadata": {},
     "output_type": "execute_result"
    }
   ],
   "source": [
    "# create a DataFrame for just the scandens species\n",
    "df_scandens = df_finch[df_finch[\"species\"] == \"scandens\"].reset_index(drop=True)\n",
    "\n",
    "# check first few rows of the DataFrame\n",
    "df_scandens.head()"
   ]
  },
  {
   "cell_type": "code",
   "execution_count": 24,
   "id": "341a0855-46aa-4787-a6cb-6e70a37b131a",
   "metadata": {},
   "outputs": [
    {
     "data": {
      "image/png": "[encoded data removed]",
      "text/plain": [
       "<Figure size 432x288 with 1 Axes>"
      ]
     },
     "metadata": {},
     "output_type": "display_data"
    }
   ],
   "source": [
    "# create a bee swarm plot for the scandens species\n",
    "sns.swarmplot(x=\"year\", y=\"beak_depth\", data=df_scandens)\n",
    "plt.xlabel(\"year\")\n",
    "plt.ylabel(\"beak depth (mm)\")\n",
    "plt.title(\"Plot of Scandens Beak Depth in 1975 and 2012\");"
   ]
  },
  {
   "cell_type": "markdown",
   "id": "6426dbd5-a49d-4864-9b62-919047284cc7",
   "metadata": {},
   "source": [
    "It is kind of hard to see if there is a clear difference between the 1975 and 2012 data set. Eyeballing it, it appears as though the mean of the 2012 data set might be slightly higher, and it might have a bigger variance."
   ]
  },
  {
   "cell_type": "markdown",
   "id": "a6d581a5-7839-409c-bc2d-44326b1d5e85",
   "metadata": {},
   "source": [
    "### 4.3 ECDFs of beak depths"
   ]
  },
  {
   "cell_type": "code",
   "execution_count": 25,
   "id": "8ed2d0ab-b346-4cd3-bc69-c277a67f80a9",
   "metadata": {},
   "outputs": [],
   "source": [
    "# create function to calculate the Empirical Cumulative Distribution Function (ECDF)\n",
    "def ecdf(data):\n",
    "    \"\"\"\n",
    "    Compute ECDF for a one-dimensional array of measurements.\n",
    "    \n",
    "    Parameter\n",
    "    ----------\n",
    "    data : NumPy Array\n",
    "      One dimensional NumPy array.\n",
    "      \n",
    "    Returns\n",
    "    -------\n",
    "    x : NumPy Array\n",
    "      Ordered one dimensional NumPy array.\n",
    "    y : NumPy Array\n",
    "      Ordered percentiles of the data in a NumPy array.\n",
    "    \"\"\"\n",
    "    # number of data points: n\n",
    "    n = len(data)\n",
    "\n",
    "    # x-data for the ECDF: x\n",
    "    x = np.sort(data)\n",
    "\n",
    "    # y-data for the ECDF: y\n",
    "    y = np.arange(1, n + 1) / n\n",
    "\n",
    "    return x, y"
   ]
  },
  {
   "cell_type": "code",
   "execution_count": 26,
   "id": "0625e198-8f9b-4b2f-a81d-5a8f94017fe2",
   "metadata": {},
   "outputs": [],
   "source": [
    "# create beak depth arrays: bd_1975 and bd_2012\n",
    "bd_1975 = df_scandens[df_scandens[\"year\"] == 1975][\"beak_depth\"].values\n",
    "bd_2012 = df_scandens[df_scandens[\"year\"] == 2012][\"beak_depth\"].values"
   ]
  },
  {
   "cell_type": "code",
   "execution_count": 27,
   "id": "2f9471a9-4deb-4086-acd4-45ff380739e9",
   "metadata": {},
   "outputs": [],
   "source": [
    "# compute ECDFs\n",
    "x_1975, y_1975 = ecdf(bd_1975)\n",
    "x_2012, y_2012 = ecdf(bd_2012)"
   ]
  },
  {
   "cell_type": "code",
   "execution_count": 28,
   "id": "393e58d6-25c8-4b67-8fa0-a11277a0ca7e",
   "metadata": {},
   "outputs": [
    {
     "data": {
      "image/png": "[encoded data removed]",
      "text/plain": [
       "<Figure size 432x288 with 1 Axes>"
      ]
     },
     "metadata": {},
     "output_type": "display_data"
    }
   ],
   "source": [
    "# plot the ECDFs\n",
    "plt.plot(x_1975, y_1975, marker=\".\", linestyle=\"none\")\n",
    "plt.plot(x_2012, y_2012, marker=\".\", linestyle=\"none\")\n",
    "\n",
    "plt.margins(0.05)\n",
    "\n",
    "plt.xlabel(\"beak depth (mm)\")\n",
    "plt.ylabel(\"ECDF\")\n",
    "plt.title(\"Plot of ECDFs of Beak Depths in 1975 and 2012\")\n",
    "plt.legend((\"1975\", \"2012\"), loc=\"lower right\");"
   ]
  },
  {
   "cell_type": "markdown",
   "id": "e14ef996-4497-4dc9-9ebf-4dff61ca8324",
   "metadata": {},
   "source": [
    "The differences are much clearer in the ECDF. The mean is larger in the 2012 data, and the variance does appear larger as well."
   ]
  },
  {
   "cell_type": "markdown",
   "id": "0b837de8-05f9-4eae-88c0-a7f73b9e0884",
   "metadata": {},
   "source": [
    "### 4.4 Parameter estimates of beak depths"
   ]
  },
  {
   "cell_type": "code",
   "execution_count": 29,
   "id": "03225ccc-e88a-4481-b08d-24621fbc8e43",
   "metadata": {},
   "outputs": [],
   "source": [
    "# create function to generate bootstrap replicate on 1D array: bs_rep_1d(data, func)\n",
    "def bs_rep_1d(data, func):\n",
    "    \"\"\"\n",
    "    Generate bootstrap replicate of 1D data with aggregate func.\n",
    "    \n",
    "    Parameters\n",
    "    ----------\n",
    "    data : NumPy Array\n",
    "      One dimensional NumPy array.\n",
    "    func : Function\n",
    "      Aggregation function to be applied to the bootstrap sample.\n",
    "      \n",
    "    Return\n",
    "    ------\n",
    "    func_value : Int\n",
    "      Return value from the aggregation function.\n",
    "    \"\"\"\n",
    "    # generate bootstrap sample: bs_sample\n",
    "    bs_sample = np.random.choice(data, len(data))\n",
    "    \n",
    "    # aggregate bs_sample using func\n",
    "    return func(bs_sample)"
   ]
  },
  {
   "cell_type": "code",
   "execution_count": 30,
   "id": "4248d152-8431-45f3-b749-95a37807aa85",
   "metadata": {},
   "outputs": [],
   "source": [
    "# create function to draw bootstrap replicates: draw_bs_rep(data, func, size=1)\n",
    "def draw_bs_rep(data, func, size=1):\n",
    "    \"\"\"\n",
    "    Draw bootstrap replicates of size of data with aggregate func.\n",
    "    \n",
    "    Parameters\n",
    "    ----------\n",
    "    data : NumPy Array\n",
    "      One dimensional NumPy array.\n",
    "    func : Function\n",
    "      Aggregation function to be applied to the bootstrap sample.\n",
    "    size : Int, optional\n",
    "      Size of replicate to be drawn.\n",
    "      Default=1.\n",
    "      \n",
    "    Return\n",
    "    ------\n",
    "    bs_replicate : NumPy Array\n",
    "      NumPy array of the aggregate values of the replicates.\n",
    "    \"\"\"\n",
    "\n",
    "    # initialize array of bootstrap replicates: bs_replicates\n",
    "    bs_rep = np.empty(size)\n",
    "\n",
    "    # generate replicates\n",
    "    for i in range(size):\n",
    "        bs_rep[i] = bs_rep_1d(data, func)\n",
    "\n",
    "    return bs_rep"
   ]
  },
  {
   "cell_type": "code",
   "execution_count": 31,
   "id": "063b3106-8b68-4f62-ad21-236d55d8aba0",
   "metadata": {},
   "outputs": [],
   "source": [
    "# compute the difference of the sample means: mean_diff\n",
    "mean_diff = np.mean(bd_2012) - np.mean(bd_1975)"
   ]
  },
  {
   "cell_type": "code",
   "execution_count": 32,
   "id": "7da7bc06-a803-4a6d-be88-6c52ffc230f7",
   "metadata": {},
   "outputs": [],
   "source": [
    "# take 10,000 bootstrap replicates of the mean\n",
    "rep_size = 10000\n",
    "\n",
    "# get bootstrap replicates of means: bs_rep_1975 and bs_rep_2012\n",
    "bs_rep_1975 = draw_bs_rep(bd_1975, np.mean, rep_size)\n",
    "bs_rep_2012 = draw_bs_rep(bd_2012, np.mean, rep_size)"
   ]
  },
  {
   "cell_type": "code",
   "execution_count": 33,
   "id": "a8fb7af6-da8c-44b4-b8e6-a5ba89bbf397",
   "metadata": {},
   "outputs": [],
   "source": [
    "# compute samples of difference of means: bs_diff_rep\n",
    "bs_diff_rep = bs_rep_2012 - bs_rep_1975"
   ]
  },
  {
   "cell_type": "code",
   "execution_count": 34,
   "id": "58a8bb7e-0acf-484b-b1d7-0fcfc820b32d",
   "metadata": {},
   "outputs": [],
   "source": [
    "# compute 95% confidence interval: conf_int\n",
    "conf_int = np.percentile(bs_diff_rep, [2.5, 97.5])"
   ]
  },
  {
   "cell_type": "code",
   "execution_count": 35,
   "id": "8a62a0d6-6b41-42b2-86b0-7cf5149b4ab8",
   "metadata": {},
   "outputs": [
    {
     "name": "stdout",
     "output_type": "stream",
     "text": [
      "Difference of means = 0.23 mm.\n",
      "95% confidence interval = [0.06, 0.39] mm.\n"
     ]
    }
   ],
   "source": [
    "# print the results\n",
    "print(f\"Difference of means = {mean_diff:.2f} mm.\")\n",
    "print(f\"95% confidence interval = [{conf_int[0]:.2f}, {conf_int[1]:.2f}] mm.\")"
   ]
  },
  {
   "cell_type": "markdown",
   "id": "4ca3fc34-7d01-4df7-8fd1-806251ab4b8f",
   "metadata": {},
   "source": [
    "Your plot of the ECDF and determination of the confidence interval make it pretty clear that the beaks of _G. scandens_ on Daphne Major have gotten deeper."
   ]
  },
  {
   "cell_type": "markdown",
   "id": "12398d8c-3dfd-4b9a-9566-17c6799b7e45",
   "metadata": {},
   "source": [
    "### 4.5 Hypothesis test: Are beaks deeper in 2012?\n",
    "\n",
    "The hypothesis is that the means are equal. In other words, the question is what is the probability that the observed difference in mean beak depth would be the same if the means were the same?. To perform this hypothesis test, the two data sets need to be shifted so that they have the same mean and then use bootstrap sampling to compute the difference of means."
   ]
  },
  {
   "cell_type": "code",
   "execution_count": 36,
   "id": "487c29bf-204d-403b-9175-ecd68d5cc62f",
   "metadata": {},
   "outputs": [],
   "source": [
    "# compute mean of combined data set: comb_mean\n",
    "comb_mean = np.mean(np.concatenate((bd_1975, bd_2012)))"
   ]
  },
  {
   "cell_type": "code",
   "execution_count": 37,
   "id": "e618b274-0a96-4bba-ae66-f7c76898e3e0",
   "metadata": {},
   "outputs": [],
   "source": [
    "# shift the samples: bd_1975_shift and bd_2012_shift\n",
    "bd_1975_shift = bd_1975 - np.mean(bd_1975) + comb_mean\n",
    "bd_2012_shift = bd_2012 - np.mean(bd_2012) + comb_mean"
   ]
  },
  {
   "cell_type": "code",
   "execution_count": 38,
   "id": "4eed688b-6ab0-444d-9fde-3b9ddf607904",
   "metadata": {},
   "outputs": [],
   "source": [
    "# get bootstrap replicates of shifted data sets: bs_rep_1975_shift and bs_rep_2012_shift\n",
    "bs_rep_1975_shift = draw_bs_rep(bd_1975_shift, np.mean, 10000)\n",
    "bs_rep_2012_shift = draw_bs_rep(bd_2012_shift, np.mean, 10000)"
   ]
  },
  {
   "cell_type": "code",
   "execution_count": 39,
   "id": "31c2ef6a-6d0c-48dc-9be7-38b361f21416",
   "metadata": {},
   "outputs": [],
   "source": [
    "# Compute replicates of difference of means: bs_diff_rep\n",
    "bs_diff_rep_shift = bs_rep_2012_shift - bs_rep_1975_shift"
   ]
  },
  {
   "cell_type": "code",
   "execution_count": 40,
   "id": "141a3c1c-586b-4b1d-8de7-1b914852d21f",
   "metadata": {},
   "outputs": [],
   "source": [
    "# compute the p-value\n",
    "p = np.sum(bs_diff_rep_shift >= mean_diff) / len(bs_diff_rep_shift)"
   ]
  },
  {
   "cell_type": "code",
   "execution_count": 41,
   "id": "b446df8b-ccf3-4d8e-b56d-c178099b2de9",
   "metadata": {},
   "outputs": [
    {
     "name": "stdout",
     "output_type": "stream",
     "text": [
      "p = 0.0045\n"
     ]
    }
   ],
   "source": [
    "# print p-value\n",
    "print(f\"p = {p}\")"
   ]
  },
  {
   "cell_type": "markdown",
   "id": "71326458-dab0-4c16-8dbd-22e0c7e0c86a",
   "metadata": {},
   "source": [
    "This suggests that there is a statistically significant difference. It is very important to know how different they are. Previously, the calculated mean difference was 0.23 mm. Changing by 0.23 mm in 37 years is substantial by evolutionary standards."
   ]
  },
  {
   "cell_type": "markdown",
   "id": "ff126785-88b8-48b3-9d85-08f5609a683f",
   "metadata": {},
   "source": [
    "### 4.6 EDA of beak length and depth"
   ]
  },
  {
   "cell_type": "code",
   "execution_count": 42,
   "id": "1ccd7f34-9324-4f5d-b9a7-0a5f4fb1bfaa",
   "metadata": {},
   "outputs": [],
   "source": [
    "# create beak length arrays: bl_1975 and bl_2012\n",
    "bl_1975 = df_scandens[df_scandens[\"year\"] == 1975][\"beak_length\"].values\n",
    "bl_2012 = df_scandens[df_scandens[\"year\"] == 2012][\"beak_length\"].values"
   ]
  },
  {
   "cell_type": "code",
   "execution_count": 43,
   "id": "ba8d0ec6-0d7a-4a8e-8d60-3c9e476e59b8",
   "metadata": {},
   "outputs": [
    {
     "data": {
      "image/png": "[encoded data removed]",
      "text/plain": [
       "<Figure size 432x288 with 1 Axes>"
      ]
     },
     "metadata": {},
     "output_type": "display_data"
    }
   ],
   "source": [
    "# make scatter plots of beak depth vs beak length for the 1975 and 2012 specimens\n",
    "plt.plot(bl_1975, bd_1975, marker='.', linestyle='None', color='blue', alpha=0.5)\n",
    "plt.plot(bl_2012, bd_2012, marker='.', linestyle='None', color='red', alpha=0.5)\n",
    "\n",
    "plt.xlabel('beak length (mm)')\n",
    "plt.ylabel('beak depth (mm)')\n",
    "plt.title(\"Plot of Beak Depth and Length from 1975 and 2012\")\n",
    "plt.legend(('1975', '2012'), loc='upper left');"
   ]
  },
  {
   "cell_type": "markdown",
   "id": "72d137ef-bf13-4c4b-8ea4-6aad4c0c1254",
   "metadata": {},
   "source": [
    "In looking at the plot, it can be seen that beaks got deeper (the red points are higher up in the y-direction), but not really longer. If anything, they got a bit shorter, since the red dots are to the left of the blue dots. So, it does not look like the beaks kept the same shape; they became shorter and deeper."
   ]
  },
  {
   "cell_type": "markdown",
   "id": "998b84e2-d1b5-4d53-baa6-9ddb4b732d31",
   "metadata": {},
   "source": [
    "### 4.7 Linear regressions"
   ]
  },
  {
   "cell_type": "code",
   "execution_count": 44,
   "id": "9fb6042d-21f7-4e74-955c-0fa2966b27b0",
   "metadata": {},
   "outputs": [],
   "source": [
    "# create function to perform pairs bootstrap for linear regression: draw_bs_pairs_linreg(x, y, size=1)\n",
    "def draw_bs_pairs_linreg(x, y, size=1):\n",
    "    \"\"\"\n",
    "    Perform pairs bootstrap for linear regression.\n",
    "    \n",
    "    Parameters\n",
    "    ----------\n",
    "    x : NumPy Array\n",
    "      X values for linear regression.\n",
    "    y : NumPy Array\n",
    "      Y values for linear regression.\n",
    "    size : Int, optional\n",
    "      Size of bootstrap replicate to be drawn.\n",
    "      Default=1\n",
    "      \n",
    "    Returns\n",
    "    -------\n",
    "    bs_slope_reps : Float\n",
    "      Slope of linear regression from bootstrap.\n",
    "    bs_intercept_reps : Float\n",
    "      Intercept of linear regression from bootstrap.\n",
    "    \"\"\"\n",
    "\n",
    "    # set up array of indices to sample from: inds\n",
    "    inds = np.arange(len(x))\n",
    "\n",
    "    # initialize replicates: bs_slope_reps, bs_intercept_reps\n",
    "    bs_slope_reps = np.empty(size)\n",
    "    bs_intercept_reps = np.empty(size)\n",
    "\n",
    "    # generate replicates\n",
    "    for i in range(size):\n",
    "        bs_inds = np.random.choice(inds, size=len(inds))\n",
    "        bs_x, bs_y = x[bs_inds], y[bs_inds]\n",
    "        bs_slope_reps[i], bs_intercept_reps[i] = np.polyfit(bs_x, bs_y, 1)\n",
    "\n",
    "    return bs_slope_reps, bs_intercept_reps"
   ]
  },
  {
   "cell_type": "code",
   "execution_count": 45,
   "id": "bd285cb9-5c9d-4eb6-bf4a-8b1aff63c83d",
   "metadata": {},
   "outputs": [],
   "source": [
    "# compute the linear regressions slopes and intercepts\n",
    "slope_1975, intercept_1975 = np.polyfit(bl_1975, bd_1975, 1)\n",
    "slope_2012, intercept_2012 = np.polyfit(bl_2012, bd_2012, 1)"
   ]
  },
  {
   "cell_type": "code",
   "execution_count": 46,
   "id": "3199a724-6ffe-4d19-8d45-6d86f8f0a260",
   "metadata": {},
   "outputs": [],
   "source": [
    "# perform pairs bootstrap for the linear regressions\n",
    "bs_slope_reps_1975, bs_intercept_reps_1975 = \\\n",
    "        draw_bs_pairs_linreg(bl_1975, bd_1975, 1000)\n",
    "bs_slope_reps_2012, bs_intercept_reps_2012 = \\\n",
    "        draw_bs_pairs_linreg(bl_2012, bd_2012, 1000)"
   ]
  },
  {
   "cell_type": "code",
   "execution_count": 47,
   "id": "0ddbe173-9fa1-411f-ae6d-89e1f087da85",
   "metadata": {},
   "outputs": [],
   "source": [
    "# compute confidence intervals of slopes and intercepts\n",
    "slope_conf_int_1975 = np.percentile(bs_slope_reps_1975, [2.5, 97.5])\n",
    "slope_conf_int_2012 = np.percentile(bs_slope_reps_2012, [2.5, 97.5])\n",
    "intercept_conf_int_1975 = np.percentile(bs_intercept_reps_1975, [2.5, 97.5])\n",
    "intercept_conf_int_2012 = np.percentile(bs_intercept_reps_2012, [2.5, 97.5])"
   ]
  },
  {
   "cell_type": "code",
   "execution_count": 48,
   "id": "78269bde-3f82-4a7e-ad65-f66be851e6fd",
   "metadata": {},
   "outputs": [
    {
     "name": "stdout",
     "output_type": "stream",
     "text": [
      "1975: slope = 0.47, conf int = [0.33, 0.59]\n",
      "1975: intercept = 2.39, conf int = [0.71, 4.31]\n",
      "2012: slope = 0.46, conf int = [0.33, 0.60]\n",
      "2012: intercept = 2.98, conf int = [1.18, 4.74]\n"
     ]
    }
   ],
   "source": [
    "# Print the results\n",
    "print(f\"1975: slope = {slope_1975:.2f},\",\n",
    "      f\"conf int = [{slope_conf_int_1975[0]:.2f}, {slope_conf_int_1975[1]:.2f}]\")\n",
    "print(f\"1975: intercept = {intercept_1975:.2f},\",\n",
    "      f\"conf int = [{intercept_conf_int_1975[0]:.2f}, {intercept_conf_int_1975[1]:.2f}]\")\n",
    "print(f\"2012: slope = {slope_2012:.2f},\",\n",
    "      f\"conf int = [{slope_conf_int_2012[0]:.2f}, {slope_conf_int_2012[1]:.2f}]\")\n",
    "print(f\"2012: intercept = {intercept_2012:.2f},\",\n",
    "      f\"conf int = [{intercept_conf_int_2012[0]:.2f}, {intercept_conf_int_2012[1]:.2f}]\")"
   ]
  },
  {
   "cell_type": "markdown",
   "id": "fa73dd78-d42c-457f-acfb-ec4a3afa8fab",
   "metadata": {},
   "source": [
    "It looks like they have the same slope, but different intercepts. The slope being the same suggests that for every millimeter gained in beak length, the birds gained about half a millimeter in depth in both years."
   ]
  },
  {
   "cell_type": "code",
   "execution_count": 49,
   "id": "56bca726-4b57-4a55-853b-c0e7598f82e5",
   "metadata": {},
   "outputs": [
    {
     "data": {
      "image/png": "[encoded data removed]",
      "text/plain": [
       "<Figure size 432x288 with 1 Axes>"
      ]
     },
     "metadata": {},
     "output_type": "display_data"
    }
   ],
   "source": [
    "# make scatter plot of the linear regression results\n",
    "plt.plot(bl_1975, bd_1975, marker='.', linestyle='none', color='blue', alpha=0.5)\n",
    "plt.plot(bl_2012, bd_2012, marker='.', linestyle='none', color='red', alpha=0.5)\n",
    "\n",
    "plt.xlabel('beak length (mm)')\n",
    "plt.ylabel('beak depth (mm)')\n",
    "plt.legend(('1975', '2012'), loc='upper left')\n",
    "plt.title(\"Plot of Linear Regression of Beak Depth and Length in 1975 and 2012\")\n",
    "\n",
    "# generate x-values for bootstrap lines: x\n",
    "x = np.array([10, 17])\n",
    "\n",
    "# plot the bootstrap lines\n",
    "for i in range(100):\n",
    "    plt.plot(x, bs_slope_reps_1975[i] * x + bs_intercept_reps_1975[i],\n",
    "             linewidth=0.5, alpha=0.2, color='blue')\n",
    "    plt.plot(x, bs_slope_reps_2012[i] * x + bs_intercept_reps_2012[i],\n",
    "             linewidth=0.5, alpha=0.2, color='red');"
   ]
  },
  {
   "cell_type": "markdown",
   "id": "df91b2a4-5b42-4beb-b9f5-97c3cbe5b318",
   "metadata": {},
   "source": [
    "### 4.8 Beak length to depth ratio"
   ]
  },
  {
   "cell_type": "code",
   "execution_count": 50,
   "id": "58f90f5e-9cf6-4cc4-be3b-34564c459a77",
   "metadata": {},
   "outputs": [],
   "source": [
    "# compute length-to-depth ratios\n",
    "ratio_1975 = bl_1975 / bd_1975\n",
    "ratio_2012 = bl_2012 / bd_2012"
   ]
  },
  {
   "cell_type": "code",
   "execution_count": 51,
   "id": "c5626a9b-d165-483b-834b-05ee9f3a9c90",
   "metadata": {},
   "outputs": [],
   "source": [
    "# compute means\n",
    "mean_ratio_1975 = np.mean(ratio_1975)\n",
    "mean_ratio_2012 = np.mean(ratio_2012)"
   ]
  },
  {
   "cell_type": "code",
   "execution_count": 52,
   "id": "3e58f0f6-b744-4781-8ba1-c8980b902375",
   "metadata": {},
   "outputs": [],
   "source": [
    "# generate bootstrap replicates of the means\n",
    "bs_rep_1975_ratio = draw_bs_rep(ratio_1975, np.mean, 10000)\n",
    "bs_rep_2012_ratio = draw_bs_rep(ratio_2012, np.mean, 10000)"
   ]
  },
  {
   "cell_type": "code",
   "execution_count": 53,
   "id": "95a2564b-d5f4-41ff-bfa0-951ea2de6fbb",
   "metadata": {},
   "outputs": [],
   "source": [
    "# compute the 99% confidence intervals\n",
    "conf_int_1975_ratio = np.percentile(bs_rep_1975_ratio, [0.5, 99.5])\n",
    "conf_int_2012_ratio = np.percentile(bs_rep_2012_ratio, [0.5, 99.5])"
   ]
  },
  {
   "cell_type": "code",
   "execution_count": 54,
   "id": "91a210a0-87bc-4260-af73-bfc97ab37f74",
   "metadata": {},
   "outputs": [
    {
     "name": "stdout",
     "output_type": "stream",
     "text": [
      "1975: mean ratio = 1.58, conf int = [1.56, 1.60]\n",
      "2012: mean ratio = 1.47, conf int = [1.44, 1.49]\n"
     ]
    }
   ],
   "source": [
    "# print the results\n",
    "print(f\"1975: mean ratio = {mean_ratio_1975:.2f},\",\n",
    "      f\"conf int = [{conf_int_1975_ratio[0]:.2f}, {conf_int_1975_ratio[1]:.2f}]\")\n",
    "print(f\"2012: mean ratio = {mean_ratio_2012:.2f},\",\n",
    "      f\"conf int = [{conf_int_2012_ratio[0]:.2f}, {conf_int_2012_ratio[1]:.2f}]\")"
   ]
  },
  {
   "cell_type": "markdown",
   "id": "fcf570de-915e-4579-b620-6e772329718a",
   "metadata": {},
   "source": [
    "The mean beak length-to-depth ratio decreased by about 0.1, or 7%, from 1975 to 2012. The 99% confidence intervals are not even close to overlapping, so this is a real change. The beak shape changed."
   ]
  },
  {
   "cell_type": "markdown",
   "id": "40051f5c-6d44-410b-b137-82f1a0594165",
   "metadata": {},
   "source": [
    "## 5. Data Analysis of Heritability"
   ]
  },
  {
   "cell_type": "markdown",
   "id": "573ce33b-7b2c-4b53-b20f-daffc3ba6903",
   "metadata": {},
   "source": [
    "### 5.1 EDA of heritability"
   ]
  },
  {
   "cell_type": "code",
   "execution_count": 55,
   "id": "f984dd06-9bbb-4a2b-ae20-db7dc23ef8da",
   "metadata": {},
   "outputs": [],
   "source": [
    "# select heredity arrays from DataFrames\n",
    "bd_parent_fortis = df_fortis_heredity[\"mid_parent_beak_depth\"].values\n",
    "bd_offspring_fortis = df_fortis_heredity[\"mid_offspring_beak_depth\"].values\n",
    "bd_parent_scandens = df_scandens_heredity[\"mid_parent_beak_depth\"].values\n",
    "bd_offspring_scandens = df_scandens_heredity[\"mid_offspring_beak_depth\"].values"
   ]
  },
  {
   "cell_type": "code",
   "execution_count": 56,
   "id": "682ab417-e11c-41d2-a28c-62b08737323a",
   "metadata": {},
   "outputs": [
    {
     "data": {
      "image/png": "[encoded data removed]",
      "text/plain": [
       "<Figure size 432x288 with 1 Axes>"
      ]
     },
     "metadata": {},
     "output_type": "display_data"
    }
   ],
   "source": [
    "# make scatter plot of the average offspring beak depth vs parent's\n",
    "plt.plot(bd_parent_fortis, bd_offspring_fortis, \n",
    "         marker=\".\", linestyle=\"none\", color=\"blue\", alpha=0.5)\n",
    "plt.plot(bd_parent_scandens, bd_offspring_scandens, \n",
    "         marker=\".\", linestyle=\"none\", color=\"red\", alpha=0.5)\n",
    "\n",
    "plt.xlabel('parental beak depth (mm)')\n",
    "plt.ylabel('offspring beak depth (mm)')\n",
    "plt.legend(('G. fortis', 'G. scandens'), loc='lower right')\n",
    "plt.title(\"Average Offspring and Parent Beak Depth\");"
   ]
  },
  {
   "cell_type": "markdown",
   "id": "1309db2c-132b-410e-b4d6-1748395331c0",
   "metadata": {},
   "source": [
    "It appears as though there is a stronger correlation in _G. fortis_ than in _G. scandens_. This suggests that beak depth is more strongly inherited in _G. fortis_. This correlation will be quantified next."
   ]
  },
  {
   "cell_type": "markdown",
   "id": "9d703174-8348-4ee8-8c31-5e9a0b6df647",
   "metadata": {},
   "source": [
    "### 5.2 Pearson correlation of offspring and parental data"
   ]
  },
  {
   "cell_type": "code",
   "execution_count": 57,
   "id": "6e37277d-77a2-4427-9b26-87d57b270fe6",
   "metadata": {},
   "outputs": [],
   "source": [
    "# create function that performs pairs bootstrap and computes a single statistic on pairs samples: draw_bs_pairs(x, y, func, size=1)\n",
    "def draw_bs_pairs(x, y, func, size=1):\n",
    "    \"\"\"\n",
    "    Performs pairs bootstrap for a single statistic.\n",
    "    \n",
    "    Parameters\n",
    "    ----------\n",
    "    x : NumPy Array\n",
    "      X values for data.\n",
    "    y : NumPy Array\n",
    "      Y values for data.\n",
    "    func : Function\n",
    "      Aggregation function to be applied to the bootstrap sample.\n",
    "    size : Int, optional\n",
    "      Size of bootstrap replicate to be drawn.\n",
    "      Default=1\n",
    "      \n",
    "    Returns\n",
    "    -------\n",
    "    bs_rep : NumPy Array\n",
    "      NumPy array of the aggregate values of the replicates.\n",
    "    \"\"\"\n",
    "\n",
    "    # set up array of indices to sample from: inds\n",
    "    inds = np.arange(len(x))\n",
    "\n",
    "    # initialize replicates: bs_rep\n",
    "    bs_rep = np.empty(size)\n",
    "\n",
    "    # generate replicates\n",
    "    for i in range(size):\n",
    "        bs_inds = np.random.choice(inds, size=len(inds))\n",
    "        bs_x, bs_y = x[bs_inds], y[bs_inds]\n",
    "        bs_rep[i] = func(bs_x, bs_y)\n",
    "\n",
    "    return bs_rep"
   ]
  },
  {
   "cell_type": "code",
   "execution_count": 58,
   "id": "b9bd2fa7-30a8-40d4-8318-2d8bab8cab5d",
   "metadata": {},
   "outputs": [],
   "source": [
    "# create pearson_r function: pearson_r(x, y)\n",
    "def pearson_r(x, y):\n",
    "    \"\"\"\n",
    "    Compute Pearson correlation coefficient between two arrays.\n",
    "    \n",
    "    Parameters\n",
    "    ----------\n",
    "    x : NumPy Array\n",
    "      X values for the data.\n",
    "    y : NumPy Array\n",
    "      Y values for the data.\n",
    "      \n",
    "    Return\n",
    "    ------\n",
    "    corr_mat : NumPy Array\n",
    "      Correlation matrix of x and y.\n",
    "    \"\"\"\n",
    "    # compute correlation matrix: corr_mat\n",
    "    corr_mat = np.corrcoef(x, y)\n",
    "\n",
    "    # return entry [0,1]\n",
    "    return corr_mat[0,1]"
   ]
  },
  {
   "cell_type": "code",
   "execution_count": 59,
   "id": "a2d8b461-a39b-4958-8b5b-e0cf7e6817fd",
   "metadata": {},
   "outputs": [],
   "source": [
    "# compute the Pearson correlation coefficients\n",
    "r_scandens = pearson_r(bd_parent_scandens, bd_offspring_scandens)\n",
    "r_fortis = pearson_r(bd_parent_fortis, bd_offspring_fortis)"
   ]
  },
  {
   "cell_type": "code",
   "execution_count": 60,
   "id": "721f55f5-e23e-40fc-8975-5135aa96c790",
   "metadata": {},
   "outputs": [],
   "source": [
    "# acquire 1000 bootstrap replicates of Pearson r\n",
    "bs_rep_scandens = draw_bs_pairs(bd_parent_scandens, bd_offspring_scandens, pearson_r, 1000)\n",
    "bs_rep_fortis = draw_bs_pairs(bd_parent_fortis, bd_offspring_fortis, pearson_r, 1000)"
   ]
  },
  {
   "cell_type": "code",
   "execution_count": 61,
   "id": "183dbc8a-2c44-43c5-b2fd-e48fb66ce216",
   "metadata": {},
   "outputs": [],
   "source": [
    "# compute 95% confidence intervals\n",
    "conf_int_scandens = np.percentile(bs_rep_scandens, [2.5, 97.5])\n",
    "conf_int_fortis = np.percentile(bs_rep_fortis, [2.5, 97.5])"
   ]
  },
  {
   "cell_type": "code",
   "execution_count": 62,
   "id": "6f422c44-aeef-4c61-bffe-ec0ec65a5e11",
   "metadata": {},
   "outputs": [
    {
     "name": "stdout",
     "output_type": "stream",
     "text": [
      "G. scandens: Pearson r = 0.41, conf int = [0.27, 0.54]\n",
      "G. fortis: Pearson r = 0.73, conf int = [0.67, 0.78]\n"
     ]
    }
   ],
   "source": [
    "# print results\n",
    "print(f\"G. scandens: Pearson r = {r_scandens:.2f}, conf int = [{conf_int_scandens[0]:.2f}, {conf_int_scandens[1]:.2f}]\")\n",
    "print(f\"G. fortis: Pearson r = {r_fortis:.2f}, conf int = [{conf_int_fortis[0]:.2f}, {conf_int_fortis[1]:.2f}]\")"
   ]
  },
  {
   "cell_type": "markdown",
   "id": "eb8430be-ca7e-4d9e-9633-7cd34cd18f8b",
   "metadata": {},
   "source": [
    "It is clear from the confidence intervals that beak depth of the offspring of _G. fortis_ parents is more strongly correlated with their offspring than their _G. scandens_ counterparts."
   ]
  },
  {
   "cell_type": "markdown",
   "id": "b972399f-6d81-4008-a9dd-a6df3c9a4841",
   "metadata": {},
   "source": [
    "### 5.3 Measuring heritability"
   ]
  },
  {
   "cell_type": "markdown",
   "id": "050ec91d-cc7d-4e71-9a46-1f5634082f0e",
   "metadata": {},
   "source": [
    "The Pearson correlation coefficient is the ratio of the covariance to the geometric mean of the variances of the two data sets. This is a measure of the correlation between parents and offspring, but might not be the best estimate of heritability. It makes more sense to define heritability as the ratio of the covariance between parent and offspring to the _variance of the parents alone_."
   ]
  },
  {
   "cell_type": "code",
   "execution_count": 63,
   "id": "0294ece6-ede5-41af-a261-dfcfef1d5655",
   "metadata": {},
   "outputs": [],
   "source": [
    "# create function: heritability(parents, offspring)\n",
    "def heritability(parents, offspring):\n",
    "    \"\"\"\n",
    "    Compute the heritability from parent and offspring samples.\n",
    "    \n",
    "    Parameters\n",
    "    ----------\n",
    "    parents : NumPy Array\n",
    "      Array containing the data for the parent of the species.\n",
    "    offspring : NumPy Array\n",
    "      Array containing the data for the offspring of the species.\n",
    "      \n",
    "    Return:\n",
    "      Ratio of the covariance of the trait in parents and \n",
    "      offspring divided by the variance of the trait in the parents.\n",
    "    \"\"\"\n",
    "    covariance_matrix = np.cov(parents, offspring)\n",
    "    return covariance_matrix[0, 1] / covariance_matrix[0, 0]"
   ]
  },
  {
   "cell_type": "code",
   "execution_count": 64,
   "id": "b62d3efa-0cb9-4dd7-bfbd-f93efa07e638",
   "metadata": {},
   "outputs": [],
   "source": [
    "# compute the heritability\n",
    "heritability_scandens = heritability(bd_parent_scandens, bd_offspring_scandens)\n",
    "heritability_fortis = heritability(bd_parent_fortis, bd_offspring_fortis)"
   ]
  },
  {
   "cell_type": "code",
   "execution_count": 65,
   "id": "9643ebe5-0d00-4bd5-8eb9-ecdb18199a84",
   "metadata": {},
   "outputs": [],
   "source": [
    "# acquire 1000 bootstrap replicates of heritability\n",
    "rep_scandens = draw_bs_pairs(bd_parent_scandens, bd_offspring_scandens, heritability, size=1000) \n",
    "rep_fortis = draw_bs_pairs(bd_parent_fortis, bd_offspring_fortis, heritability, size=1000)"
   ]
  },
  {
   "cell_type": "code",
   "execution_count": 66,
   "id": "ac9807d9-b554-438f-ac3e-40babce389de",
   "metadata": {},
   "outputs": [],
   "source": [
    "# compute 95% confidence intervals\n",
    "conf_int_scandens = np.percentile(rep_scandens, [2.5, 97.5])\n",
    "conf_int_fortis = np.percentile(rep_fortis, [2.5, 97.5])"
   ]
  },
  {
   "cell_type": "code",
   "execution_count": 67,
   "id": "5bf9c791-b18f-42c2-b3d0-24a61a211978",
   "metadata": {},
   "outputs": [
    {
     "name": "stdout",
     "output_type": "stream",
     "text": [
      "G. scandens: heritability = 0.55, conf int = [0.35, 0.75]\n",
      "G. fortis: heritability = 0.72, conf int = [0.65, 0.80]\n"
     ]
    }
   ],
   "source": [
    "# print results\n",
    "print(f\"G. scandens: heritability = {heritability_scandens:.2f}, conf int = [{conf_int_scandens[0]:.2f}, {conf_int_scandens[1]:.2f}]\")\n",
    "print(f\"G. fortis: heritability = {heritability_fortis:.2f}, conf int = [{conf_int_fortis[0]:.2f}, {conf_int_fortis[1]:.2f}]\")"
   ]
  },
  {
   "cell_type": "markdown",
   "id": "957a764a-f414-4136-a574-5b80342330a2",
   "metadata": {},
   "source": [
    "Here again, it is seen that _G. fortis_ has stronger heritability than _G. scandens_."
   ]
  },
  {
   "cell_type": "markdown",
   "id": "ffe592cb-043a-47da-bea7-e9ba542ea869",
   "metadata": {},
   "source": [
    "### 5.4 Is beak depth heritable at all in _G. scandens_?"
   ]
  },
  {
   "cell_type": "code",
   "execution_count": 68,
   "id": "bbe3a5a4-bd5e-43ea-91f5-797cb27f9fd8",
   "metadata": {},
   "outputs": [],
   "source": [
    "# initialize array of replicates: perm_rep\n",
    "perm_rep = np.empty(shape=10000)"
   ]
  },
  {
   "cell_type": "code",
   "execution_count": 69,
   "id": "dced457c-f037-4a93-88c7-1f654238df26",
   "metadata": {},
   "outputs": [],
   "source": [
    "# draw replicates\n",
    "for i in range(10000):\n",
    "    # permute parent beak depths\n",
    "    bd_parent_permuted = np.random.permutation(bd_parent_scandens)\n",
    "    perm_rep[i] = heritability(bd_parent_permuted, bd_offspring_scandens)"
   ]
  },
  {
   "cell_type": "code",
   "execution_count": 70,
   "id": "e3a32256-ef6a-468d-8cf2-8994952b4a7c",
   "metadata": {},
   "outputs": [],
   "source": [
    "# compute p-value: p\n",
    "p = np.sum(perm_rep >= heritability_scandens) / len(perm_rep)"
   ]
  },
  {
   "cell_type": "code",
   "execution_count": 71,
   "id": "3707b401-5123-47ee-b601-f688a11e3827",
   "metadata": {},
   "outputs": [
    {
     "name": "stdout",
     "output_type": "stream",
     "text": [
      "p-val = 0.00\n"
     ]
    }
   ],
   "source": [
    "# print the p-value\n",
    "print(f\"p-val = {p:.2f}\")"
   ]
  },
  {
   "cell_type": "markdown",
   "id": "5ddc95d1-4d4d-47d5-a185-33640891efce",
   "metadata": {},
   "source": [
    "P-value of zero means that none of the 10,000 permutation pairs replicates drawn had a heritability high enough to match that which was observed. This strongly suggests that beak depth is heritable in _G. scandens_, just not as much as in _G. fortis_."
   ]
  }
 ],
 "metadata": {
  "kernelspec": {
   "display_name": "Python 3 (ipykernel)",
   "language": "python",
   "name": "python3"
  },
  "language_info": {
   "codemirror_mode": {
    "name": "ipython",
    "version": 3
   },
   "file_extension": ".py",
   "mimetype": "text/x-python",
   "name": "python",
   "nbconvert_exporter": "python",
   "pygments_lexer": "ipython3",
   "version": "3.8.2"
  }
 },
 "nbformat": 4,
 "nbformat_minor": 5
}
